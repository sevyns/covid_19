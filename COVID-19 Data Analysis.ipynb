{
 "cells": [
  {
   "cell_type": "markdown",
   "metadata": {},
   "source": [
    "# COVID-19 Data Analysis\n",
    "#### Matthew K Schmalz"
   ]
  },
  {
   "cell_type": "markdown",
   "metadata": {},
   "source": [
    "This notebook contains analysis of the data collected for COVID-19, aggregated by Johns-Hopkins University. The source data can be found [here](https://github.com/CSSEGISandData/COVID-19). Feel free to reach out for help reshaping it for analysis.\n",
    "\n",
    "The images found in this report were taken from a Power BI solution located in this same repository; this is available to download and explore for yourself."
   ]
  },
  {
   "cell_type": "markdown",
   "metadata": {},
   "source": [
    "### Observations - April 8th 2020"
   ]
  },
  {
   "attachments": {},
   "cell_type": "markdown",
   "metadata": {},
   "source": [
    "![20200408_dash.png](ReportImages/20200408_dash.png)"
   ]
  },
  {
   "attachments": {},
   "cell_type": "markdown",
   "metadata": {},
   "source": [
    "As of 4/8/2020, the US has the highest reported number of confirmed cases (more than Spain and Italy combined). However, the total deaths attributed to COVID-19 in the US is 3rd world-wide. The question we all want to answer is when will the growth rate begin to slow?\n",
    "\n",
    "If we focus on the figures for the US, the highest reported day-over-day increase in confirmed cases occured on April 4th.\n",
    "\n",
    "![20200408_dod_usa.png](ReportImages/20200408_dod_usa.png)\n",
    "\n",
    "Examination of the day-over-day changes in confirmed cases provides a focused perspective on how the number of confirmed cases is trending. Previously, we've observed exponetial growth in the number of confirmed cases. Since April 4th 2020, we have seen a slight decline growth of the number of confirmed cases day-over-day. This could suggest the growth rate is becoming closer to linear, and the exponetial growth is slowing.\n",
    "\n"
   ]
  },
  {
   "attachments": {},
   "cell_type": "markdown",
   "metadata": {},
   "source": [
    "Previously, the dataset had state/province level metrics. Unfortunately this is no longer available; I'll be looking for alternatives.\n",
    "\n",
    "![image.png](ReportImages/20200408_usa_map.png)"
   ]
  },
  {
   "attachments": {},
   "cell_type": "markdown",
   "metadata": {},
   "source": [
    "For perspective, South Korea reported exponential growth of confirmed cases in Feb; we can observe a similar change in the day-over-day confirmed cases in South Korea as the overall growth curve became less aggressive.\n",
    "\n",
    "![20200408_sk.png](ReportImages/20200408_sk.png)"
   ]
  },
  {
   "cell_type": "code",
   "execution_count": null,
   "metadata": {},
   "outputs": [],
   "source": []
  },
  {
   "cell_type": "code",
   "execution_count": null,
   "metadata": {},
   "outputs": [],
   "source": []
  }
 ],
 "metadata": {
  "kernelspec": {
   "display_name": "Python 3",
   "language": "python",
   "name": "python3"
  },
  "language_info": {
   "codemirror_mode": {
    "name": "ipython",
    "version": 3
   },
   "file_extension": ".py",
   "mimetype": "text/x-python",
   "name": "python",
   "nbconvert_exporter": "python",
   "pygments_lexer": "ipython3",
   "version": "3.8.1"
  }
 },
 "nbformat": 4,
 "nbformat_minor": 4
}
